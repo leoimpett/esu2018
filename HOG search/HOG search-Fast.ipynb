{
 "cells": [
  {
   "cell_type": "code",
   "execution_count": 4,
   "metadata": {},
   "outputs": [],
   "source": [
    "\n",
    "\n",
    "# maths library for matrix manipulation\n",
    "import numpy as np\n",
    "\n",
    "# matplotlib is a library for plotting things inside Python\n",
    "from matplotlib import pyplot as plt\n",
    "%matplotlib inline"
   ]
  },
  {
   "cell_type": "code",
   "execution_count": 5,
   "metadata": {},
   "outputs": [],
   "source": [
    "# This is a library for reading and writing image files\n",
    "\n",
    "from skimage import io"
   ]
  },
  {
   "cell_type": "code",
   "execution_count": 6,
   "metadata": {},
   "outputs": [],
   "source": [
    "# a library for finding files\n",
    "from scipy.spatial import distance\n",
    "from sklearn import decomposition\n",
    "import glob "
   ]
  },
  {
   "cell_type": "code",
   "execution_count": 7,
   "metadata": {},
   "outputs": [],
   "source": [
    "\n",
    "\n",
    "JPGList = glob.glob('/home/impett/Downloads/Annunc2/AnnuncsJun18/*/*.jpg')\n",
    "\n",
    "\n"
   ]
  },
  {
   "cell_type": "code",
   "execution_count": null,
   "metadata": {},
   "outputs": [],
   "source": []
  },
  {
   "cell_type": "code",
   "execution_count": 8,
   "metadata": {},
   "outputs": [
    {
     "data": {
      "text/plain": [
       "505"
      ]
     },
     "execution_count": 8,
     "metadata": {},
     "output_type": "execute_result"
    }
   ],
   "source": [
    "len(JPGList)"
   ]
  },
  {
   "cell_type": "code",
   "execution_count": 9,
   "metadata": {},
   "outputs": [],
   "source": [
    "allList = JPGList #[:100]"
   ]
  },
  {
   "cell_type": "code",
   "execution_count": 10,
   "metadata": {},
   "outputs": [
    {
     "data": {
      "text/plain": [
       "505"
      ]
     },
     "execution_count": 10,
     "metadata": {},
     "output_type": "execute_result"
    }
   ],
   "source": [
    "# allList is the list of all image file names\n",
    "\n",
    "len(allList)"
   ]
  },
  {
   "cell_type": "code",
   "execution_count": 11,
   "metadata": {},
   "outputs": [],
   "source": [
    "from skimage import feature"
   ]
  },
  {
   "cell_type": "code",
   "execution_count": 12,
   "metadata": {},
   "outputs": [],
   "source": [
    "from skimage import transform"
   ]
  },
  {
   "cell_type": "code",
   "execution_count": 13,
   "metadata": {},
   "outputs": [],
   "source": [
    "import tqdm"
   ]
  },
  {
   "cell_type": "code",
   "execution_count": null,
   "metadata": {},
   "outputs": [],
   "source": []
  },
  {
   "cell_type": "code",
   "execution_count": null,
   "metadata": {},
   "outputs": [],
   "source": []
  },
  {
   "cell_type": "code",
   "execution_count": 14,
   "metadata": {},
   "outputs": [],
   "source": [
    "from scipy.spatial import distance"
   ]
  },
  {
   "cell_type": "code",
   "execution_count": null,
   "metadata": {},
   "outputs": [],
   "source": [
    "n_components = 50\n",
    "ipca = decomposition.IncrementalPCA(n_components=n_components, batch_size=100)"
   ]
  },
  {
   "cell_type": "code",
   "execution_count": null,
   "metadata": {},
   "outputs": [],
   "source": []
  },
  {
   "cell_type": "code",
   "execution_count": 22,
   "metadata": {
    "scrolled": false
   },
   "outputs": [
    {
     "name": "stderr",
     "output_type": "stream",
     "text": [
      "\n",
      "\n",
      "  0%|          | 0/505 [00:00<?, ?it/s]\u001b[A\u001b[A/home/impett/anaconda3/envs/esu2018/lib/python3.5/site-packages/skimage/transform/_warps.py:105: UserWarning: The default mode, 'constant', will be changed to 'reflect' in skimage 0.15.\n",
      "  warn(\"The default mode, 'constant', will be changed to 'reflect' in \"\n",
      "/home/impett/anaconda3/envs/esu2018/lib/python3.5/site-packages/skimage/transform/_warps.py:110: UserWarning: Anti-aliasing will be enabled by default in skimage 0.15 to avoid aliasing artifacts when down-sampling images.\n",
      "  warn(\"Anti-aliasing will be enabled by default in skimage 0.15 to \"\n",
      "/home/impett/anaconda3/envs/esu2018/lib/python3.5/site-packages/skimage/feature/_hog.py:150: skimage_deprecation: Default value of `block_norm`==`L1` is deprecated and will be changed to `L2-Hys` in v0.15. To supress this message specify explicitly the normalization method.\n",
      "  skimage_deprecation)\n",
      "\n",
      "\n",
      "  0%|          | 1/505 [00:02<19:37,  2.34s/it]\u001b[A\u001b[A\n",
      "\n",
      "  0%|          | 2/505 [00:04<19:46,  2.36s/it]\u001b[A\u001b[A\n",
      "\n",
      "  1%|          | 3/505 [00:06<19:06,  2.28s/it]\u001b[A\u001b[A\n",
      "\n",
      "  1%|          | 4/505 [00:09<19:02,  2.28s/it]\u001b[A\u001b[A\n",
      "\n",
      "  1%|          | 5/505 [00:11<18:59,  2.28s/it]\u001b[A\u001b[A\n",
      "\n",
      "  1%|          | 6/505 [00:13<18:58,  2.28s/it]\u001b[A\u001b[A\n",
      "\n",
      "  1%|▏         | 7/505 [00:15<18:48,  2.27s/it]\u001b[A\u001b[A\n",
      "\n",
      "  2%|▏         | 8/505 [00:18<19:09,  2.31s/it]\u001b[A\u001b[A\n",
      "\n",
      "  2%|▏         | 9/505 [00:20<19:02,  2.30s/it]\u001b[A\u001b[A\n",
      "\n",
      "  2%|▏         | 10/505 [00:22<18:48,  2.28s/it]\u001b[A\u001b[A\n",
      "\n",
      "  2%|▏         | 11/505 [00:24<18:39,  2.27s/it]\u001b[A\u001b[A\n",
      "\n",
      "  2%|▏         | 12/505 [00:27<18:30,  2.25s/it]\u001b[A\u001b[A\n",
      "\n",
      "  3%|▎         | 13/505 [00:29<18:21,  2.24s/it]\u001b[A\u001b[A\n",
      "\n",
      "  3%|▎         | 14/505 [00:31<18:12,  2.22s/it]\u001b[A\u001b[A\n",
      "\n",
      "  3%|▎         | 15/505 [00:33<18:08,  2.22s/it]\u001b[A\u001b[A\n",
      "\n",
      "  3%|▎         | 16/505 [00:35<18:08,  2.23s/it]\u001b[A\u001b[A\n",
      "\n",
      "  3%|▎         | 17/505 [00:37<18:04,  2.22s/it]\u001b[A\u001b[A\n",
      "\n",
      "  4%|▎         | 18/505 [00:40<18:03,  2.22s/it]\u001b[A\u001b[A\n",
      "\n",
      "  4%|▍         | 19/505 [00:42<18:06,  2.23s/it]\u001b[A\u001b[A\n",
      "\n",
      "  4%|▍         | 20/505 [00:45<18:11,  2.25s/it]\u001b[A\u001b[A\n",
      "\n",
      "  4%|▍         | 21/505 [00:47<18:08,  2.25s/it]\u001b[A\u001b[A\n",
      "\n",
      "  4%|▍         | 22/505 [00:49<18:06,  2.25s/it]\u001b[A\u001b[A\n",
      "\n",
      "  5%|▍         | 23/505 [00:51<18:03,  2.25s/it]\u001b[A\u001b[A\n",
      "\n",
      "  5%|▍         | 24/505 [00:53<18:01,  2.25s/it]\u001b[A\u001b[A\n",
      "\n",
      "  5%|▍         | 25/505 [00:56<17:57,  2.25s/it]\u001b[A\u001b[A\n",
      "\n",
      "  5%|▌         | 26/505 [00:58<17:54,  2.24s/it]\u001b[A\u001b[A\n",
      "\n",
      "  5%|▌         | 27/505 [01:00<17:51,  2.24s/it]\u001b[A\u001b[A\n",
      "\n",
      "  6%|▌         | 28/505 [01:02<17:48,  2.24s/it]\u001b[A\u001b[A\n",
      "\n",
      "  6%|▌         | 29/505 [01:04<17:46,  2.24s/it]\u001b[A\u001b[A\n",
      "\n",
      "  6%|▌         | 30/505 [01:07<17:44,  2.24s/it]\u001b[A\u001b[A\n",
      "\n",
      "  6%|▌         | 31/505 [01:09<17:41,  2.24s/it]\u001b[A\u001b[A\n",
      "\n",
      "  6%|▋         | 32/505 [01:11<17:40,  2.24s/it]\u001b[A\u001b[A\n",
      "\n",
      "  7%|▋         | 33/505 [01:13<17:37,  2.24s/it]\u001b[A\u001b[A\n",
      "\n",
      "  7%|▋         | 34/505 [01:16<17:34,  2.24s/it]\u001b[A\u001b[A\n",
      "\n",
      "  7%|▋         | 35/505 [01:18<17:30,  2.23s/it]\u001b[A\u001b[A\n",
      "\n",
      "  7%|▋         | 36/505 [01:20<17:27,  2.23s/it]\u001b[A\u001b[A\n",
      "\n",
      "  7%|▋         | 37/505 [01:22<17:24,  2.23s/it]\u001b[A\u001b[A\n",
      "\n",
      "  8%|▊         | 38/505 [01:24<17:21,  2.23s/it]\u001b[A\u001b[A\n",
      "\n",
      "  8%|▊         | 39/505 [01:26<17:15,  2.22s/it]\u001b[A\u001b[A\n",
      "\n",
      "  8%|▊         | 40/505 [01:28<17:13,  2.22s/it]\u001b[A\u001b[A\n",
      "\n",
      "  8%|▊         | 41/505 [01:31<17:11,  2.22s/it]\u001b[A\u001b[A\n",
      "\n",
      "  8%|▊         | 42/505 [01:33<17:08,  2.22s/it]\u001b[A\u001b[A\n",
      "\n",
      "  9%|▊         | 43/505 [01:35<17:06,  2.22s/it]\u001b[A\u001b[A\n",
      "\n",
      "  9%|▊         | 44/505 [01:37<17:03,  2.22s/it]\u001b[A\u001b[A\n",
      "\n",
      "  9%|▉         | 45/505 [01:39<17:00,  2.22s/it]\u001b[A\u001b[A\n",
      "\n",
      "  9%|▉         | 46/505 [01:42<16:59,  2.22s/it]\u001b[A\u001b[A\n",
      "\n",
      "  9%|▉         | 47/505 [01:44<16:57,  2.22s/it]\u001b[A\u001b[A\n",
      "\n",
      " 10%|▉         | 48/505 [01:46<16:55,  2.22s/it]\u001b[A\u001b[A\n",
      "\n",
      " 10%|▉         | 49/505 [01:49<16:54,  2.23s/it]\u001b[A\u001b[A\n",
      "\n",
      " 10%|▉         | 50/505 [01:51<16:52,  2.23s/it]\u001b[A\u001b[A\n",
      "\n",
      " 10%|█         | 51/505 [01:53<16:50,  2.23s/it]\u001b[A\u001b[A\n",
      "\n",
      " 10%|█         | 52/505 [01:56<16:50,  2.23s/it]\u001b[A\u001b[A\n",
      "\n",
      " 10%|█         | 53/505 [01:58<16:50,  2.24s/it]\u001b[A\u001b[A\n",
      "\n",
      " 11%|█         | 54/505 [02:00<16:48,  2.24s/it]\u001b[A\u001b[A\n",
      "\n",
      " 11%|█         | 55/505 [02:03<16:48,  2.24s/it]\u001b[A\u001b[A\n",
      "\n",
      " 11%|█         | 56/505 [02:05<16:44,  2.24s/it]\u001b[A\u001b[A\n",
      "\n",
      " 11%|█▏        | 57/505 [02:07<16:43,  2.24s/it]\u001b[A\u001b[A\n",
      "\n",
      " 11%|█▏        | 58/505 [02:10<16:42,  2.24s/it]\u001b[A\u001b[A\n",
      "\n",
      " 12%|█▏        | 59/505 [02:12<16:39,  2.24s/it]\u001b[A\u001b[A\n",
      "\n",
      " 12%|█▏        | 60/505 [02:14<16:36,  2.24s/it]\u001b[A\u001b[A\n",
      "\n",
      " 12%|█▏        | 61/505 [02:16<16:34,  2.24s/it]\u001b[A\u001b[A\n",
      "\n",
      " 12%|█▏        | 62/505 [02:18<16:32,  2.24s/it]\u001b[A\u001b[A\n",
      "\n",
      " 12%|█▏        | 63/505 [02:21<16:29,  2.24s/it]\u001b[A\u001b[A\n",
      "\n",
      " 13%|█▎        | 64/505 [02:23<16:26,  2.24s/it]\u001b[A\u001b[A\n",
      "\n",
      " 13%|█▎        | 65/505 [02:25<16:23,  2.24s/it]\u001b[A\u001b[A\n",
      "\n",
      " 13%|█▎        | 66/505 [02:27<16:21,  2.23s/it]\u001b[A\u001b[A\n",
      "\n",
      " 13%|█▎        | 67/505 [02:29<16:17,  2.23s/it]\u001b[A\u001b[A\n",
      "\n",
      " 13%|█▎        | 68/505 [02:31<16:15,  2.23s/it]\u001b[A\u001b[A\n",
      "\n",
      " 14%|█▎        | 69/505 [02:34<16:13,  2.23s/it]\u001b[A\u001b[A\n",
      "\n",
      " 14%|█▍        | 70/505 [02:36<16:11,  2.23s/it]\u001b[A\u001b[A\n",
      "\n",
      " 14%|█▍        | 71/505 [02:38<16:08,  2.23s/it]\u001b[A\u001b[A\n",
      "\n",
      " 14%|█▍        | 72/505 [02:40<16:05,  2.23s/it]\u001b[A\u001b[A\n",
      "\n",
      " 14%|█▍        | 73/505 [02:42<16:03,  2.23s/it]\u001b[A\u001b[A\n",
      "\n",
      " 15%|█▍        | 74/505 [02:44<16:00,  2.23s/it]\u001b[A\u001b[A\n",
      "\n",
      " 15%|█▍        | 75/505 [02:47<15:57,  2.23s/it]\u001b[A\u001b[A\n",
      "\n",
      " 15%|█▌        | 76/505 [02:49<15:55,  2.23s/it]\u001b[A\u001b[A\n",
      "\n",
      " 15%|█▌        | 77/505 [02:51<15:52,  2.23s/it]\u001b[A\u001b[A\n",
      "\n",
      " 15%|█▌        | 78/505 [02:53<15:50,  2.23s/it]\u001b[A\u001b[A\n",
      "\n",
      " 16%|█▌        | 79/505 [02:55<15:48,  2.23s/it]\u001b[A\u001b[A\n",
      "\n",
      " 16%|█▌        | 80/505 [02:57<15:45,  2.22s/it]\u001b[A\u001b[A\n",
      "\n",
      " 16%|█▌        | 81/505 [03:00<15:43,  2.22s/it]\u001b[A\u001b[A\n",
      "\n",
      " 16%|█▌        | 82/505 [03:02<15:42,  2.23s/it]\u001b[A\u001b[A\n",
      "\n",
      " 16%|█▋        | 83/505 [03:05<15:44,  2.24s/it]\u001b[A\u001b[A\n",
      "\n",
      " 17%|█▋        | 84/505 [03:09<15:47,  2.25s/it]\u001b[A\u001b[A\n",
      "\n",
      " 17%|█▋        | 85/505 [03:12<15:49,  2.26s/it]\u001b[A\u001b[A\n",
      "\n",
      " 17%|█▋        | 86/505 [03:15<15:50,  2.27s/it]\u001b[A\u001b[A\n",
      "\n",
      " 17%|█▋        | 87/505 [03:17<15:49,  2.27s/it]\u001b[A\u001b[A\n",
      "\n",
      " 17%|█▋        | 88/505 [03:19<15:47,  2.27s/it]\u001b[A\u001b[A\n",
      "\n",
      " 18%|█▊        | 89/505 [03:22<15:44,  2.27s/it]\u001b[A\u001b[A\n",
      "\n",
      " 18%|█▊        | 90/505 [03:24<15:42,  2.27s/it]\u001b[A\u001b[A\n",
      "\n",
      " 18%|█▊        | 91/505 [03:26<15:40,  2.27s/it]\u001b[A\u001b[A\n",
      "\n",
      " 18%|█▊        | 92/505 [03:28<15:37,  2.27s/it]\u001b[A\u001b[A\n",
      "\n",
      " 18%|█▊        | 93/505 [03:31<15:35,  2.27s/it]\u001b[A\u001b[A\n",
      "\n",
      " 19%|█▊        | 94/505 [03:33<15:32,  2.27s/it]\u001b[A\u001b[A\n",
      "\n",
      " 19%|█▉        | 95/505 [03:35<15:29,  2.27s/it]\u001b[A\u001b[A\n",
      "\n",
      " 19%|█▉        | 96/505 [03:37<15:27,  2.27s/it]\u001b[A\u001b[A\n",
      "\n",
      " 19%|█▉        | 97/505 [03:40<15:28,  2.28s/it]\u001b[A\u001b[A\n",
      "\n",
      " 19%|█▉        | 98/505 [03:43<15:28,  2.28s/it]\u001b[A\u001b[A\n",
      "\n",
      " 20%|█▉        | 99/505 [03:46<15:29,  2.29s/it]\u001b[A\u001b[A\n",
      "\n",
      " 20%|█▉        | 100/505 [03:49<15:30,  2.30s/it]\u001b[A\u001b[A\n",
      "\n",
      " 20%|██        | 101/505 [03:52<15:31,  2.31s/it]\u001b[A\u001b[A\n",
      "\n",
      " 20%|██        | 102/505 [03:56<15:33,  2.32s/it]\u001b[A\u001b[A\n",
      "\n",
      " 20%|██        | 103/505 [03:59<15:36,  2.33s/it]\u001b[A\u001b[A\n",
      "\n",
      " 21%|██        | 104/505 [04:03<15:37,  2.34s/it]\u001b[A\u001b[A\n",
      "\n",
      " 21%|██        | 105/505 [04:06<15:37,  2.34s/it]\u001b[A\u001b[A\n",
      "\n",
      " 21%|██        | 106/505 [04:09<15:38,  2.35s/it]\u001b[A\u001b[A\n",
      "\n",
      " 21%|██        | 107/505 [04:12<15:37,  2.36s/it]\u001b[A\u001b[A\n",
      "\n",
      " 21%|██▏       | 108/505 [04:15<15:40,  2.37s/it]\u001b[A\u001b[A\n",
      "\n",
      " 22%|██▏       | 109/505 [04:19<15:42,  2.38s/it]\u001b[A\u001b[A\n",
      "\n",
      " 22%|██▏       | 110/505 [04:22<15:44,  2.39s/it]\u001b[A\u001b[A\n",
      "\n",
      " 22%|██▏       | 111/505 [04:26<15:45,  2.40s/it]\u001b[A\u001b[A\n",
      "\n",
      " 22%|██▏       | 112/505 [04:29<15:45,  2.41s/it]\u001b[A\u001b[A\n",
      "\n",
      " 22%|██▏       | 113/505 [04:32<15:46,  2.41s/it]\u001b[A\u001b[A\n",
      "\n",
      " 23%|██▎       | 114/505 [04:36<15:47,  2.42s/it]\u001b[A\u001b[A\n",
      "\n",
      " 23%|██▎       | 115/505 [04:39<15:47,  2.43s/it]\u001b[A\u001b[A\n",
      "\n",
      " 23%|██▎       | 116/505 [04:42<15:47,  2.43s/it]\u001b[A\u001b[A\n",
      "\n",
      " 23%|██▎       | 117/505 [04:45<15:47,  2.44s/it]\u001b[A\u001b[A\n",
      "\n",
      " 23%|██▎       | 118/505 [04:48<15:47,  2.45s/it]\u001b[A\u001b[A\n",
      "\n",
      " 24%|██▎       | 119/505 [04:51<15:46,  2.45s/it]\u001b[A\u001b[A\n",
      "\n",
      " 24%|██▍       | 120/505 [04:54<15:46,  2.46s/it]\u001b[A\u001b[A\n",
      "\n",
      " 24%|██▍       | 121/505 [04:58<15:46,  2.46s/it]\u001b[A\u001b[A\n",
      "\n",
      " 24%|██▍       | 122/505 [05:01<15:46,  2.47s/it]\u001b[A\u001b[A\n",
      "\n",
      " 24%|██▍       | 123/505 [05:04<15:46,  2.48s/it]\u001b[A\u001b[A\n",
      "\n",
      " 25%|██▍       | 124/505 [05:08<15:46,  2.48s/it]\u001b[A\u001b[A\n",
      "\n",
      " 25%|██▍       | 125/505 [05:11<15:47,  2.49s/it]\u001b[A\u001b[A\n",
      "\n",
      " 25%|██▍       | 126/505 [05:14<15:47,  2.50s/it]\u001b[A\u001b[A\n",
      "\n",
      " 25%|██▌       | 127/505 [05:18<15:46,  2.50s/it]\u001b[A\u001b[A\n",
      "\n",
      " 25%|██▌       | 128/505 [05:21<15:46,  2.51s/it]\u001b[A\u001b[A\n",
      "\n",
      " 26%|██▌       | 129/505 [05:24<15:46,  2.52s/it]\u001b[A\u001b[A\n",
      "\n"
     ]
    },
    {
     "name": "stderr",
     "output_type": "stream",
     "text": [
      " 26%|██▌       | 130/505 [05:28<15:47,  2.53s/it]\u001b[A\u001b[A\n",
      "\n",
      " 26%|██▌       | 131/505 [05:31<15:47,  2.53s/it]\u001b[A\u001b[A\n",
      "\n",
      " 26%|██▌       | 132/505 [05:35<15:47,  2.54s/it]\u001b[A\u001b[A\n",
      "\n",
      " 26%|██▋       | 133/505 [05:38<15:47,  2.55s/it]\u001b[A\u001b[A\n",
      "\n",
      " 27%|██▋       | 134/505 [05:42<15:47,  2.55s/it]\u001b[A\u001b[A\n",
      "\n",
      " 27%|██▋       | 135/505 [05:45<15:46,  2.56s/it]\u001b[A\u001b[A\n",
      "\n",
      " 27%|██▋       | 136/505 [05:49<15:47,  2.57s/it]\u001b[A\u001b[A\n",
      "\n",
      " 27%|██▋       | 137/505 [05:52<15:47,  2.57s/it]\u001b[A\u001b[A\n",
      "\n",
      " 27%|██▋       | 138/505 [05:56<15:46,  2.58s/it]\u001b[A\u001b[A\n",
      "\n",
      " 28%|██▊       | 139/505 [05:59<15:46,  2.59s/it]\u001b[A\u001b[A\n",
      "\n",
      " 28%|██▊       | 140/505 [06:02<15:45,  2.59s/it]\u001b[A\u001b[A\n",
      "\n",
      " 28%|██▊       | 141/505 [06:05<15:43,  2.59s/it]\u001b[A\u001b[A\n",
      "\n",
      " 28%|██▊       | 142/505 [06:08<15:43,  2.60s/it]\u001b[A\u001b[A\n",
      "\n",
      " 28%|██▊       | 143/505 [06:12<15:42,  2.60s/it]\u001b[A\u001b[A"
     ]
    },
    {
     "ename": "KeyboardInterrupt",
     "evalue": "",
     "output_type": "error",
     "traceback": [
      "\u001b[0;31m---------------------------------------------------------------------------\u001b[0m",
      "\u001b[0;31mKeyboardInterrupt\u001b[0m                         Traceback (most recent call last)",
      "\u001b[0;32m<ipython-input-22-561246b2be53>\u001b[0m in \u001b[0;36m<module>\u001b[0;34m()\u001b[0m\n\u001b[1;32m     18\u001b[0m         \u001b[0mimr\u001b[0m \u001b[0;34m=\u001b[0m \u001b[0mtransform\u001b[0m\u001b[0;34m.\u001b[0m\u001b[0mresize\u001b[0m\u001b[0;34m(\u001b[0m\u001b[0mnewim\u001b[0m\u001b[0;34m,\u001b[0m\u001b[0;34m(\u001b[0m\u001b[0;36m256\u001b[0m\u001b[0;34m,\u001b[0m\u001b[0;36m256\u001b[0m\u001b[0;34m)\u001b[0m\u001b[0;34m)\u001b[0m\u001b[0;34m\u001b[0m\u001b[0m\n\u001b[1;32m     19\u001b[0m \u001b[0;31m#         allImageSections.append(imr)\u001b[0m\u001b[0;34m\u001b[0m\u001b[0;34m\u001b[0m\u001b[0m\n\u001b[0;32m---> 20\u001b[0;31m         \u001b[0mF\u001b[0m \u001b[0;34m=\u001b[0m \u001b[0mfeature\u001b[0m\u001b[0;34m.\u001b[0m\u001b[0mhog\u001b[0m\u001b[0;34m(\u001b[0m\u001b[0mimr\u001b[0m\u001b[0;34m,\u001b[0m  \u001b[0mpixels_per_cell\u001b[0m\u001b[0;34m=\u001b[0m\u001b[0;34m(\u001b[0m\u001b[0;36m16\u001b[0m\u001b[0;34m,\u001b[0m\u001b[0;36m16\u001b[0m\u001b[0;34m)\u001b[0m  \u001b[0;34m)\u001b[0m\u001b[0;34m\u001b[0m\u001b[0m\n\u001b[0m\u001b[1;32m     21\u001b[0m         \u001b[0mimageFeatureSections\u001b[0m\u001b[0;34m.\u001b[0m\u001b[0mappend\u001b[0m\u001b[0;34m(\u001b[0m\u001b[0mF\u001b[0m\u001b[0;34m)\u001b[0m\u001b[0;34m\u001b[0m\u001b[0m\n\u001b[1;32m     22\u001b[0m         \u001b[0mimCrops\u001b[0m\u001b[0;34m.\u001b[0m\u001b[0mappend\u001b[0m\u001b[0;34m(\u001b[0m\u001b[0;34m[\u001b[0m\u001b[0mfileName\u001b[0m\u001b[0;34m,\u001b[0m \u001b[0mminw\u001b[0m\u001b[0;34m,\u001b[0m\u001b[0mminw\u001b[0m\u001b[0;34m+\u001b[0m\u001b[0msize\u001b[0m\u001b[0;34m,\u001b[0m\u001b[0mmaxw\u001b[0m\u001b[0;34m,\u001b[0m\u001b[0mmaxw\u001b[0m\u001b[0;34m+\u001b[0m\u001b[0msize\u001b[0m\u001b[0;34m]\u001b[0m\u001b[0;34m)\u001b[0m\u001b[0;34m\u001b[0m\u001b[0m\n",
      "\u001b[0;31mKeyboardInterrupt\u001b[0m: "
     ]
    }
   ],
   "source": [
    "# allImageSections = []\n",
    "imCrops = []\n",
    "imageFeatureSections = []\n",
    "\n",
    "for fileName in tqdm.tqdm(allList):\n",
    "    im = io.imread(fileName)\n",
    "    \n",
    "    for j in range(100):\n",
    "        myshape = np.shape(im)\n",
    "        w = myshape[0]\n",
    "        h = myshape[1]\n",
    "        maxHeight = np.min([w,h])\n",
    "        size = np.random.randint(low=50,high=np.min([maxHeight,150]))\n",
    "        minw = np.random.randint(w - size)\n",
    "        maxw = np.random.randint(h - size)\n",
    "\n",
    "        newim = im[minw:minw+size,maxw:maxw+size,:]\n",
    "        imr = transform.resize(newim,(256,256))\n",
    "#         allImageSections.append(imr)\n",
    "        F = feature.hog(imr,  pixels_per_cell=(16,16)  )\n",
    "        imageFeatureSections.append(F)\n",
    "        imCrops.append([fileName, minw,minw+size,maxw,maxw+size])\n",
    "    ipca.partial_fit(np.asarray(imageFeatureSections[-100:-1]))\n",
    "        "
   ]
  },
  {
   "cell_type": "code",
   "execution_count": 18,
   "metadata": {},
   "outputs": [
    {
     "name": "stdout",
     "output_type": "stream",
     "text": [
      "ready\n"
     ]
    }
   ],
   "source": [
    "print('ready')"
   ]
  },
  {
   "cell_type": "code",
   "execution_count": 14,
   "metadata": {},
   "outputs": [
    {
     "data": {
      "text/plain": [
       "50500"
      ]
     },
     "execution_count": 14,
     "metadata": {},
     "output_type": "execute_result"
    }
   ],
   "source": [
    "len(imageFeatureSections)"
   ]
  },
  {
   "cell_type": "code",
   "execution_count": 15,
   "metadata": {},
   "outputs": [],
   "source": [
    "def showImSection(mylist):\n",
    "    myim = io.imread(mylist[0])\n",
    "    return myim[mylist[1]:mylist[2],mylist[3]:mylist[4]]"
   ]
  },
  {
   "cell_type": "code",
   "execution_count": 16,
   "metadata": {},
   "outputs": [
    {
     "data": {
      "text/plain": [
       "<matplotlib.image.AxesImage at 0x7fb3e97a5588>"
      ]
     },
     "execution_count": 16,
     "metadata": {},
     "output_type": "execute_result"
    },
    {
     "data": {
      "image/png": "[encoded data removed]",
      "text/plain": [
       "<Figure size 432x288 with 1 Axes>"
      ]
     },
     "metadata": {},
     "output_type": "display_data"
    }
   ],
   "source": [
    "plt.imshow(showImSection(imCrops[3]))"
   ]
  },
  {
   "cell_type": "code",
   "execution_count": null,
   "metadata": {},
   "outputs": [],
   "source": []
  },
  {
   "cell_type": "code",
   "execution_count": 25,
   "metadata": {},
   "outputs": [],
   "source": [
    "L = len(imageFeatureSections)"
   ]
  },
  {
   "cell_type": "code",
   "execution_count": 27,
   "metadata": {},
   "outputs": [],
   "source": [
    "imf = np.zeros((L,n_components))"
   ]
  },
  {
   "cell_type": "code",
   "execution_count": 33,
   "metadata": {},
   "outputs": [
    {
     "name": "stderr",
     "output_type": "stream",
     "text": [
      "100%|██████████| 50500/50500 [03:10<00:00, 265.04it/s]\n"
     ]
    }
   ],
   "source": [
    "for i in tqdm.tqdm(range(L)):\n",
    "    imf[i,:] = ipca.transform(imageFeatureSections[i].reshape(1,-1))"
   ]
  },
  {
   "cell_type": "code",
   "execution_count": 35,
   "metadata": {},
   "outputs": [],
   "source": [
    "del imageFeatureSections"
   ]
  },
  {
   "cell_type": "code",
   "execution_count": 2,
   "metadata": {},
   "outputs": [],
   "source": [
    "import pickle"
   ]
  },
  {
   "cell_type": "code",
   "execution_count": 38,
   "metadata": {},
   "outputs": [],
   "source": [
    "search = {}\n",
    "search['pca'] = ipca\n",
    "search['features'] = imf\n",
    "search['crops'] = imCrops"
   ]
  },
  {
   "cell_type": "code",
   "execution_count": 37,
   "metadata": {},
   "outputs": [
    {
     "data": {
      "text/plain": [
       "519"
      ]
     },
     "execution_count": 37,
     "metadata": {},
     "output_type": "execute_result"
    }
   ],
   "source": [
    "pickle.dump( search, open( \"save.p\", \"wb\" ) )"
   ]
  },
  {
   "cell_type": "code",
   "execution_count": 3,
   "metadata": {},
   "outputs": [
    {
     "ename": "NameError",
     "evalue": "name 'ipca' is not defined",
     "output_type": "error",
     "traceback": [
      "\u001b[0;31m---------------------------------------------------------------------------\u001b[0m",
      "\u001b[0;31mNameError\u001b[0m                                 Traceback (most recent call last)",
      "\u001b[0;32m<ipython-input-3-4212a78378c1>\u001b[0m in \u001b[0;36m<module>\u001b[0;34m()\u001b[0m\n\u001b[0;32m----> 1\u001b[0;31m \u001b[0mpickle\u001b[0m\u001b[0;34m.\u001b[0m\u001b[0mdump\u001b[0m\u001b[0;34m(\u001b[0m \u001b[0mipca\u001b[0m\u001b[0;34m,\u001b[0m \u001b[0mopen\u001b[0m\u001b[0;34m(\u001b[0m \u001b[0;34m\"hog-pca.p\"\u001b[0m\u001b[0;34m,\u001b[0m \u001b[0;34m\"wb\"\u001b[0m \u001b[0;34m)\u001b[0m \u001b[0;34m)\u001b[0m\u001b[0;34m\u001b[0m\u001b[0m\n\u001b[0m",
      "\u001b[0;31mNameError\u001b[0m: name 'ipca' is not defined"
     ]
    }
   ],
   "source": [
    "pickle.dump( ipca, open( \"hog-pca.p\", \"wb\" ) )"
   ]
  },
  {
   "cell_type": "code",
   "execution_count": null,
   "metadata": {},
   "outputs": [],
   "source": []
  },
  {
   "cell_type": "code",
   "execution_count": null,
   "metadata": {},
   "outputs": [],
   "source": [
    "imf_pca = ipca.transform(imf)"
   ]
  },
  {
   "cell_type": "code",
   "execution_count": null,
   "metadata": {},
   "outputs": [],
   "source": [
    "np.shape(imf_pca)"
   ]
  },
  {
   "cell_type": "code",
   "execution_count": null,
   "metadata": {},
   "outputs": [],
   "source": [
    "mydistances = distance.squareform(distance.pdist(imf_pca))"
   ]
  },
  {
   "cell_type": "code",
   "execution_count": null,
   "metadata": {},
   "outputs": [],
   "source": [
    "search_im = np.random.randint(low=0,high=1000)\n",
    "# search_im = 533\n",
    "plt.imshow(showImSection(imCrops[search_im]))\n",
    "print(search_im)"
   ]
  },
  {
   "cell_type": "code",
   "execution_count": null,
   "metadata": {},
   "outputs": [],
   "source": []
  },
  {
   "cell_type": "code",
   "execution_count": null,
   "metadata": {},
   "outputs": [],
   "source": [
    "plt.figure(figsize=(15,15))\n",
    "idx = np.argsort(mydistances[search_im,:])\n",
    "for i in range(25):\n",
    "    plt.subplot(5,5,i+1)\n",
    "    plt.imshow( showImSection(imCrops[idx[i]]))\n",
    "    plt.axis('off')\n",
    "#     plt.title('Distance: ' + str(mydistances[search_im,idx[i]]))\n",
    "    plt.title('Image: ' + str(imCrops[idx[i]][0].split('/')[-1]))"
   ]
  },
  {
   "cell_type": "code",
   "execution_count": null,
   "metadata": {},
   "outputs": [],
   "source": [
    "plt.hist(mydistances[search_im,:],100);"
   ]
  },
  {
   "cell_type": "code",
   "execution_count": null,
   "metadata": {},
   "outputs": [],
   "source": []
  },
  {
   "cell_type": "code",
   "execution_count": null,
   "metadata": {},
   "outputs": [],
   "source": []
  },
  {
   "cell_type": "code",
   "execution_count": null,
   "metadata": {},
   "outputs": [],
   "source": []
  },
  {
   "cell_type": "code",
   "execution_count": null,
   "metadata": {},
   "outputs": [],
   "source": []
  },
  {
   "cell_type": "code",
   "execution_count": null,
   "metadata": {},
   "outputs": [],
   "source": [
    "testIm = io.imread(allList[5])"
   ]
  },
  {
   "cell_type": "code",
   "execution_count": null,
   "metadata": {},
   "outputs": [],
   "source": [
    "%matplotlib nbagg\n",
    "fig, ax = plt.subplots(figsize=(10,10))\n",
    "ax.imshow(testIm)\n",
    "coords = []\n",
    "def onclick(event):\n",
    "    coords.append( [event.xdata, event.ydata])\n",
    "\n",
    "cid = fig.canvas.mpl_connect('button_press_event', onclick)"
   ]
  },
  {
   "cell_type": "code",
   "execution_count": null,
   "metadata": {},
   "outputs": [],
   "source": [
    "xmin = int(coords[0][0])\n",
    "ymin = int(coords[0][1])\n",
    "xmax = int(coords[1][0])\n",
    "ymax = int(coords[1][1])"
   ]
  },
  {
   "cell_type": "code",
   "execution_count": null,
   "metadata": {},
   "outputs": [],
   "source": [
    "[xmin, xmax, ymin, ymax]"
   ]
  },
  {
   "cell_type": "code",
   "execution_count": null,
   "metadata": {},
   "outputs": [],
   "source": [
    "%matplotlib inline\n",
    "plt.imshow(testIm[ymin:ymax,xmin:xmax,:])"
   ]
  },
  {
   "cell_type": "code",
   "execution_count": null,
   "metadata": {},
   "outputs": [],
   "source": [
    "queryIm = testIm[ymin:ymax,xmin:xmax,:]\n",
    "queryIm = transform.resize(queryIm,(256,256,3))\n",
    "queryF = feature.hog(queryIm,  pixels_per_cell=(16,16)  )"
   ]
  },
  {
   "cell_type": "code",
   "execution_count": null,
   "metadata": {},
   "outputs": [],
   "source": []
  },
  {
   "cell_type": "code",
   "execution_count": null,
   "metadata": {},
   "outputs": [],
   "source": [
    "# querydistances = distance.cdist(imf,queryF.reshape(1,-1))\n",
    "\n",
    "qf_pca = mypca.transform(queryF.reshape(1,-1))\n",
    "querydistances = distance.cdist(imf_pca,qf_pca)"
   ]
  },
  {
   "cell_type": "code",
   "execution_count": null,
   "metadata": {},
   "outputs": [],
   "source": [
    "np.shape(imf)"
   ]
  },
  {
   "cell_type": "code",
   "execution_count": null,
   "metadata": {},
   "outputs": [],
   "source": [
    "plt.hist(querydistances,100);"
   ]
  },
  {
   "cell_type": "code",
   "execution_count": null,
   "metadata": {},
   "outputs": [],
   "source": [
    "plt.figure(figsize=(15,15))\n",
    "idx = np.argsort(querydistances,axis=0)\n",
    "for i in range(25):\n",
    "    plt.subplot(5,5,i+1)\n",
    "    plt.imshow( showImSection(imCrops[  [idx[i][0]][0]      ]))\n",
    "    plt.axis('off')\n",
    "#     plt.title('distance = ' + str(querydistances[idx[i][0]]))\n",
    "    plt.title('Crop number: ' + str(idx[i]))"
   ]
  },
  {
   "cell_type": "code",
   "execution_count": null,
   "metadata": {},
   "outputs": [],
   "source": []
  },
  {
   "cell_type": "code",
   "execution_count": null,
   "metadata": {},
   "outputs": [],
   "source": []
  },
  {
   "cell_type": "code",
   "execution_count": null,
   "metadata": {},
   "outputs": [],
   "source": []
  },
  {
   "cell_type": "code",
   "execution_count": null,
   "metadata": {},
   "outputs": [],
   "source": []
  },
  {
   "cell_type": "code",
   "execution_count": null,
   "metadata": {},
   "outputs": [],
   "source": []
  },
  {
   "cell_type": "code",
   "execution_count": null,
   "metadata": {},
   "outputs": [],
   "source": []
  },
  {
   "cell_type": "code",
   "execution_count": null,
   "metadata": {},
   "outputs": [],
   "source": []
  },
  {
   "cell_type": "code",
   "execution_count": null,
   "metadata": {},
   "outputs": [],
   "source": []
  },
  {
   "cell_type": "code",
   "execution_count": null,
   "metadata": {},
   "outputs": [],
   "source": []
  },
  {
   "cell_type": "code",
   "execution_count": null,
   "metadata": {
    "collapsed": true
   },
   "outputs": [],
   "source": []
  }
 ],
 "metadata": {
  "kernelspec": {
   "display_name": "ESU2018 (Py3)",
   "language": "python",
   "name": "esu2018"
  },
  "language_info": {
   "codemirror_mode": {
    "name": "ipython",
    "version": 3
   },
   "file_extension": ".py",
   "mimetype": "text/x-python",
   "name": "python",
   "nbconvert_exporter": "python",
   "pygments_lexer": "ipython3",
   "version": "3.5.5"
  }
 },
 "nbformat": 4,
 "nbformat_minor": 2
}
